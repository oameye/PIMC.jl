{
 "cells": [
  {
   "cell_type": "code",
   "execution_count": 55,
   "metadata": {},
   "outputs": [],
   "source": [
    "import numpy as np\n",
    "import matplotlib.pyplot as plt\n",
    "import erroranalysis as ea\n",
    "import csv\n",
    "import pandas as pd\n",
    "# dir(ea)"
   ]
  },
  {
   "cell_type": "code",
   "execution_count": 56,
   "metadata": {},
   "outputs": [],
   "source": [
    "mstr = lambda x: str(x).replace('.', '_')"
   ]
  },
  {
   "cell_type": "code",
   "execution_count": 57,
   "metadata": {},
   "outputs": [],
   "source": [
    "from os import listdir\n",
    "from os.path import isfile, join\n",
    "mypath = \"C:/Users/drandran/Documents/Pimc.jl/erroranalysis-py/data/2d_trapped_boson_open/\"\n",
    "onlyfiles = [join(mypath, f) for f in listdir(mypath) if isfile(join(mypath, f))]"
   ]
  },
  {
   "cell_type": "code",
   "execution_count": 58,
   "metadata": {},
   "outputs": [],
   "source": [
    "data = {}\n",
    "for n in range(0, len(onlyfiles)):\n",
    "    data[n] = pd.read_csv(onlyfiles[n])\n"
   ]
  },
  {
   "cell_type": "code",
   "execution_count": null,
   "metadata": {},
   "outputs": [],
   "source": [
    "# ns = np.array([2,3,4,5])\n",
    "# ts = np.array([10**(-1.2+0.2*k) for k in range(0,8)])\n",
    "# data = {}\n",
    "# for n in ns:\n",
    "#     data[n] = {}\n",
    "\n",
    "# for n in ns:\n",
    "#     for t in ts:\n",
    "#         data[n][t] = pd.read_csv(f\"C:/Users/drandran/Documents/Pimc.jl/erroranalysis-py/data/2d_trapped_boson_open/trapped_bose_energy_N{n}_T{mstr(t)}.csv\")"
   ]
  },
  {
   "cell_type": "code",
   "execution_count": 29,
   "metadata": {},
   "outputs": [
    {
     "data": {
      "text/plain": [
       "{2: {}, 3: {}, 4: {}, 5: {}}"
      ]
     },
     "execution_count": 29,
     "metadata": {},
     "output_type": "execute_result"
    }
   ],
   "source": [
    "# ns = np.array([2,3,4,5])\n",
    "# ts = np.array([10**(-1.2+0.2*k) for k in range(0,8)])\n",
    "# data = {}\n",
    "# for n in ns:\n",
    "#     data[n] = {}\n",
    "\n",
    "# for n in ns:\n",
    "#     for t in ts:\n",
    "#         try:\n",
    "#             data[n][t] = pd.read_csv(f\"C:/Users/drandran/Documents/Pimc.jl/erroranalysis-py/data/2d_trapped_boson_open/trapped_bose_energy_N{n}_T{mstr(t)}.csv\")\n",
    "#         except:\n",
    "#             pass\n",
    "# data"
   ]
  },
  {
   "cell_type": "code",
   "execution_count": 49,
   "metadata": {},
   "outputs": [
    {
     "data": {
      "text/html": [
       "<div>\n",
       "<style scoped>\n",
       "    .dataframe tbody tr th:only-of-type {\n",
       "        vertical-align: middle;\n",
       "    }\n",
       "\n",
       "    .dataframe tbody tr th {\n",
       "        vertical-align: top;\n",
       "    }\n",
       "\n",
       "    .dataframe thead th {\n",
       "        text-align: right;\n",
       "    }\n",
       "</style>\n",
       "<table border=\"1\" class=\"dataframe\">\n",
       "  <thead>\n",
       "    <tr style=\"text-align: right;\">\n",
       "      <th></th>\n",
       "      <th>N</th>\n",
       "      <th>T</th>\n",
       "      <th>energy_virial</th>\n",
       "      <th>energy_thermo</th>\n",
       "    </tr>\n",
       "  </thead>\n",
       "  <tbody>\n",
       "    <tr>\n",
       "      <th>0</th>\n",
       "      <td>2.0</td>\n",
       "      <td>0.063096</td>\n",
       "      <td>2.544173</td>\n",
       "      <td>2.904681</td>\n",
       "    </tr>\n",
       "    <tr>\n",
       "      <th>1</th>\n",
       "      <td>2.0</td>\n",
       "      <td>0.063096</td>\n",
       "      <td>2.494726</td>\n",
       "      <td>3.120132</td>\n",
       "    </tr>\n",
       "    <tr>\n",
       "      <th>2</th>\n",
       "      <td>2.0</td>\n",
       "      <td>0.063096</td>\n",
       "      <td>2.494726</td>\n",
       "      <td>3.120132</td>\n",
       "    </tr>\n",
       "    <tr>\n",
       "      <th>3</th>\n",
       "      <td>2.0</td>\n",
       "      <td>0.063096</td>\n",
       "      <td>2.494726</td>\n",
       "      <td>3.120132</td>\n",
       "    </tr>\n",
       "    <tr>\n",
       "      <th>4</th>\n",
       "      <td>2.0</td>\n",
       "      <td>0.063096</td>\n",
       "      <td>2.494611</td>\n",
       "      <td>3.007040</td>\n",
       "    </tr>\n",
       "    <tr>\n",
       "      <th>...</th>\n",
       "      <td>...</td>\n",
       "      <td>...</td>\n",
       "      <td>...</td>\n",
       "      <td>...</td>\n",
       "    </tr>\n",
       "    <tr>\n",
       "      <th>1034208</th>\n",
       "      <td>2.0</td>\n",
       "      <td>0.063096</td>\n",
       "      <td>1.859345</td>\n",
       "      <td>3.365936</td>\n",
       "    </tr>\n",
       "    <tr>\n",
       "      <th>1034209</th>\n",
       "      <td>2.0</td>\n",
       "      <td>0.063096</td>\n",
       "      <td>1.952341</td>\n",
       "      <td>3.160019</td>\n",
       "    </tr>\n",
       "    <tr>\n",
       "      <th>1034210</th>\n",
       "      <td>2.0</td>\n",
       "      <td>0.063096</td>\n",
       "      <td>1.952341</td>\n",
       "      <td>3.160019</td>\n",
       "    </tr>\n",
       "    <tr>\n",
       "      <th>1034211</th>\n",
       "      <td>2.0</td>\n",
       "      <td>0.063096</td>\n",
       "      <td>1.957665</td>\n",
       "      <td>4.201687</td>\n",
       "    </tr>\n",
       "    <tr>\n",
       "      <th>1034212</th>\n",
       "      <td>2.0</td>\n",
       "      <td>0.063096</td>\n",
       "      <td>1.990928</td>\n",
       "      <td>4.415534</td>\n",
       "    </tr>\n",
       "  </tbody>\n",
       "</table>\n",
       "<p>1034213 rows × 4 columns</p>\n",
       "</div>"
      ],
      "text/plain": [
       "           N         T  energy_virial  energy_thermo\n",
       "0        2.0  0.063096       2.544173       2.904681\n",
       "1        2.0  0.063096       2.494726       3.120132\n",
       "2        2.0  0.063096       2.494726       3.120132\n",
       "3        2.0  0.063096       2.494726       3.120132\n",
       "4        2.0  0.063096       2.494611       3.007040\n",
       "...      ...       ...            ...            ...\n",
       "1034208  2.0  0.063096       1.859345       3.365936\n",
       "1034209  2.0  0.063096       1.952341       3.160019\n",
       "1034210  2.0  0.063096       1.952341       3.160019\n",
       "1034211  2.0  0.063096       1.957665       4.201687\n",
       "1034212  2.0  0.063096       1.990928       4.415534\n",
       "\n",
       "[1034213 rows x 4 columns]"
      ]
     },
     "execution_count": 49,
     "metadata": {},
     "output_type": "execute_result"
    }
   ],
   "source": [
    "data[0]"
   ]
  },
  {
   "cell_type": "code",
   "execution_count": 60,
   "metadata": {},
   "outputs": [],
   "source": [
    "Ev_avg = np.zeros(len(data))\n",
    "Ev_err = np.zeros(len(data))\n",
    "for i in range(0, len(data)):\n",
    "    Ev_avg[i], Ev_err[i] = ea.jackknife(data[i][\"energy_virial\"])\n",
    "Et_avg = np.zeros(len(data))\n",
    "Et_err = np.zeros(len(data))\n",
    "for i in range(0, len(data)):\n",
    "    Et_avg[i], Et_err[i] = ea.jackknife(data[i][\"energy_thermo\"])"
   ]
  },
  {
   "cell_type": "code",
   "execution_count": 61,
   "metadata": {},
   "outputs": [],
   "source": [
    "# E = dict({'Ev_avg': Ev_avg, 'Ev_err': Ev_err, 'Et_avg': Et_avg, 'Et_err': Et_err})\n",
    "E = [Ev_avg, Ev_err, Et_avg, Et_err]"
   ]
  },
  {
   "cell_type": "code",
   "execution_count": 62,
   "metadata": {},
   "outputs": [],
   "source": [
    "np.save('2d_trapped_boson_open.npy', E)"
   ]
  }
 ],
 "metadata": {
  "interpreter": {
   "hash": "ad2bdc8ecc057115af97d19610ffacc2b4e99fae6737bb82f5d7fb13d2f2c186"
  },
  "kernelspec": {
   "display_name": "Python 3.9.7 ('base')",
   "language": "python",
   "name": "python3"
  },
  "language_info": {
   "codemirror_mode": {
    "name": "ipython",
    "version": 3
   },
   "file_extension": ".py",
   "mimetype": "text/x-python",
   "name": "python",
   "nbconvert_exporter": "python",
   "pygments_lexer": "ipython3",
   "version": "3.9.7"
  },
  "orig_nbformat": 4
 },
 "nbformat": 4,
 "nbformat_minor": 2
}
