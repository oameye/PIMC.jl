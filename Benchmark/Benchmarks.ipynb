{
 "cells": [
  {
   "cell_type": "code",
   "execution_count": 2,
   "metadata": {},
   "outputs": [],
   "source": [
    "using BenchmarkTools"
   ]
  },
  {
   "cell_type": "code",
   "execution_count": 1,
   "metadata": {},
   "outputs": [],
   "source": [
    "function find_sum_of_sqrt_vectors()\n",
    "    nvectors =10000\n",
    "    sumvector = Vector{Float64}(undef,nvectors)\n",
    "    for i = 1:nvectors\n",
    "        # v = sqrt.(1:i)\n",
    "        sumvector[i] = sum(sqrt.(1:i))\n",
    "    end\n",
    "end\n",
    "@profview find_sum_of_sqrt_vectors();"
   ]
  },
  {
   "cell_type": "code",
   "execution_count": 10,
   "metadata": {},
   "outputs": [
    {
     "name": "stdout",
     "output_type": "stream",
     "text": [
      "  105.021 ms (4 allocations: 156.34 KiB)\n"
     ]
    }
   ],
   "source": [
    "function find_sum_of_sqrt_vectors_reusemem()\n",
    "    nvectors = 10000\n",
    "    sumvector = Vector{Float64}(undef,nvectors)\n",
    "    v = Vector{Float64}(undef,nvectors)\n",
    "    for i = 1:nvectors\n",
    "        v[1:i] .= sqrt.(1:i)\n",
    "        sumvector[i] = sum(v)\n",
    "        v .= 0\n",
    "    end\n",
    "end\n",
    "@btime find_sum_of_sqrt_vectors_reusemem();\n"
   ]
  },
  {
   "cell_type": "code",
   "execution_count": 12,
   "metadata": {},
   "outputs": [
    {
     "name": "stdout",
     "output_type": "stream",
     "text": [
      "  8.218 μs (207 allocations: 36.69 KiB)\n",
      "  7.578 μs (207 allocations: 36.69 KiB)\n",
      "  7.089 μs (207 allocations: 36.69 KiB)\n"
     ]
    }
   ],
   "source": [
    "function vvv_add()\n",
    "    L = 2; M = 100; N = 5\n",
    "    vec_vec_vec = [[rand(N) for j in 1:M] for i in 1:L];\n",
    "    vec_mat = [rand(M, N) for i in 1:L];\n",
    "    arr = rand(L, M, N);\n",
    "    for i = 1:N\n",
    "        for j = 1:M\n",
    "            for k = 1:L\n",
    "                vec_vec_vec[k][j][i] += 1\n",
    "            end\n",
    "        end\n",
    "    end\n",
    "end\n",
    "\n",
    "function vmat_add()\n",
    "    L = 2; M = 100; N = 5\n",
    "    vec_vec_vec = [[rand(N) for j in 1:M] for i in 1:L];\n",
    "    vec_mat = [rand(M, N) for i in 1:L];\n",
    "    arr = rand(L, M, N);\n",
    "    for i = 1:N\n",
    "        for j = 1:M\n",
    "            for k = 1:L\n",
    "                vec_mat[k][j,i] += 1\n",
    "            end\n",
    "        end\n",
    "    end\n",
    "end\n",
    "\n",
    "function arr_add()\n",
    "    L = 2; M = 100; N = 5\n",
    "    vec_vec_vec = [[rand(N) for j in 1:M] for i in 1:L];\n",
    "    vec_mat = [rand(M, N) for i in 1:L];\n",
    "    arr = rand(L, M, N);\n",
    "    for i = 1:N\n",
    "        for j = 1:M\n",
    "            for k = 1:L\n",
    "                arr[k,j,i] += 1\n",
    "            end\n",
    "        end\n",
    "    end\n",
    "end\n",
    "\n",
    "@btime vvv_add()\n",
    "@btime vmat_add()\n",
    "@btime arr_add()\n"
   ]
  },
  {
   "cell_type": "code",
   "execution_count": 2,
   "metadata": {},
   "outputs": [
    {
     "name": "stdout",
     "output_type": "stream",
     "text": [
      "  2.047 ms (2 allocations: 7.63 MiB)\n",
      "  2.293 ms (10002 allocations: 16.17 MiB)\n",
      "  2.543 ms (202 allocations: 15.26 MiB)\n"
     ]
    }
   ],
   "source": [
    "using BenchmarkTools\n",
    "L=M=N=100\n",
    "arr = rand(L, M, N)\n",
    "function arr_1(arr, L::Int64, M::Int64, N::Int64)\n",
    "    dummy = zeros(L, M, N)\n",
    "    for i = 1:N\n",
    "        for j = 1:M\n",
    "            for k = 1:L\n",
    "                dummy[k, j, i] = arr[k,j,i] \n",
    "            end\n",
    "        end\n",
    "    end\n",
    "end\n",
    "function arr_2(arr, L::Int64, M::Int64, N::Int64)\n",
    "    dummy = zeros(L, M, N)\n",
    "    for i = 1:N\n",
    "        for j = 1:M\n",
    "            dummy[:, j, i] = arr[:,j,i] \n",
    "        end\n",
    "    end\n",
    "end\n",
    "function arr_3(arr, L::Int64, M::Int64, N::Int64)\n",
    "    dummy = zeros(L, M, N)\n",
    "    for i = 1:N\n",
    "        dummy[:, :, i] = arr[:,:,i] \n",
    "    end\n",
    "end\n",
    "@btime arr_1(arr, L, M, N)\n",
    "@btime arr_2(arr, L, M, N)\n",
    "@btime arr_3(arr, L, M, N)"
   ]
  },
  {
   "cell_type": "code",
   "execution_count": null,
   "metadata": {},
   "outputs": [],
   "source": [
    "L=M=N=100\n",
    "arr = rand(L, M, N);\n",
    "function arr_1(arr, L::Int64, M::Int64, N::Int64)\n",
    "    dummy = zeros(L, M, N)\n",
    "    for i = 1:N ;for j = 1:M; for k = 1:L; dummy[k, j, i] = arr[k,j,i] \n",
    "    end; end ;end\n",
    "end\n",
    "function arr_2(arr, L::Int64, M::Int64, N::Int64)\n",
    "    dummy = zeros(L, M, N)\n",
    "    for i = 1:N\n",
    "        for j = 1:M\n",
    "            dummy[:, j, i] = arr[:,j,i] \n",
    "        end\n",
    "    end\n",
    "end\n",
    "function arr_3(arr, L::Int64, M::Int64, N::Int64)\n",
    "    dummy = zeros(L, M, N)\n",
    "    for i = 1:N ; for k = 1:L; dummy[k, :, i] = arr[k,:,i] \n",
    "    end; end\n",
    "end\n",
    "function arr_4(arr, L::Int64, M::Int64, N::Int64)\n",
    "    dummy = zeros(L, M, N)\n",
    "    for j = 1:M; for k = 1:L; dummy[k, j, :] = arr[k,j,:] \n",
    "    end; end\n",
    "end\n",
    "function arr_5(arr, L::Int64, M::Int64, N::Int64)\n",
    "    dummy = zeros(L, M, N)\n",
    "    for i = 1:N\n",
    "        dummy[:, :, i] = arr[:,:,i] \n",
    "    end\n",
    "end\n",
    "function arr_6(arr, L::Int64, M::Int64, N::Int64)\n",
    "    dummy = zeros(L, M, N)\n",
    "    for j = 1:M\n",
    "        dummy[:, j, :] = arr[:,j,:] \n",
    "    end\n",
    "end\n",
    "function arr_7(arr, L::Int64, M::Int64, N::Int64)\n",
    "    dummy = zeros(L, M, N)\n",
    "    for k = 1:L\n",
    "        dummy[k, :, :] = arr[k,:,:] \n",
    "    end\n",
    "end\n",
    "\n",
    "@btime arr_1(arr, L, M, N)\n",
    "@btime arr_2(arr, L, M, N)\n",
    "@btime arr_3(arr, L, M, N)\n",
    "@btime arr_4(arr, L, M, N)\n",
    "@btime arr_5(arr, L, M, N)\n",
    "@btime arr_6(arr, L, M, N)\n",
    "@btime arr_7(arr, L, M, N)"
   ]
  },
  {
   "cell_type": "code",
   "execution_count": 3,
   "metadata": {},
   "outputs": [],
   "source": [
    "using BenchmarkTools"
   ]
  },
  {
   "cell_type": "code",
   "execution_count": 8,
   "metadata": {},
   "outputs": [
    {
     "name": "stdout",
     "output_type": "stream",
     "text": [
      "  216.996 ns (3 allocations: 192 bytes)\n"
     ]
    }
   ],
   "source": [
    "function main()\n",
    "    function biss!(A, i=1, j=length(A))\n",
    "        m = round(Int, (i + j) / 2)\n",
    "        A[m] = 1\n",
    "        if j == i+2; return; end\n",
    "        biss!(A, i, m)\n",
    "        biss!(A, m, j)\n",
    "    end\n",
    "    A = zeros(9)\n",
    "    biss!(A)\n",
    "    # println(A)\n",
    "end\n",
    "@btime main()"
   ]
  },
  {
   "cell_type": "code",
   "execution_count": 9,
   "metadata": {},
   "outputs": [
    {
     "name": "stdout",
     "output_type": "stream",
     "text": [
      "  218.563 ns (3 allocations: 192 bytes)\n"
     ]
    }
   ],
   "source": [
    "function main()\n",
    "function biss!(A, i=1, j=length(A))\n",
    "    m = round(Int, (i + j) / 2)\n",
    "    A[m] = 1\n",
    "    if j == i+2; return; end\n",
    "    biss!(A, i, m)\n",
    "    biss!(A, m, j)\n",
    "end\n",
    "function init()\n",
    "    A = zeros(9)\n",
    "    biss!(A)\n",
    "    # println(A)\n",
    "end\n",
    "init()\n",
    "end\n",
    "@btime main()"
   ]
  },
  {
   "cell_type": "code",
   "execution_count": 1,
   "metadata": {},
   "outputs": [],
   "source": [
    "using BenchmarkTools"
   ]
  },
  {
   "cell_type": "code",
   "execution_count": 2,
   "metadata": {},
   "outputs": [
    {
     "name": "stdout",
     "output_type": "stream",
     "text": [
      "  28.428 ns (1 allocation: 112 bytes)\n",
      "  28.989 ns (1 allocation: 112 bytes)\n"
     ]
    }
   ],
   "source": [
    "using BenchmarkTools\n",
    "struct Alphabet\n",
    "    a::Int64\n",
    "    b::Int64\n",
    "    c::Int64\n",
    "    d::Int64\n",
    "    e::Int64\n",
    "    f::Int64\n",
    "    g::Int64\n",
    "    h::Int64\n",
    "    i::Int64\n",
    "    k::Int64\n",
    "    l::Int64\n",
    "end\n",
    "function mainst()\n",
    "    function st(a::Alphabet)\n",
    "        s = a.a*a.b*a.c\n",
    "        for i in 1:1\n",
    "        arr = rand(s)\n",
    "        end\n",
    "    end\n",
    "    alpha = Alphabet(1,2,3,4,5,6,7,8,9,10,11)\n",
    "    st(alpha) \n",
    "end\n",
    "\n",
    "function mainvar()\n",
    "    function var(a::Int64, b::Int64, c::Int64)\n",
    "        s = a*b*c\n",
    "        for i in 1:1\n",
    "        arr = rand(s)\n",
    "        end\n",
    "    end\n",
    "    alpha = Alphabet(1,2,3,4,5,6,7,8,9,10,11)\n",
    "    var(alpha.a, alpha.b, alpha.c)\n",
    "end\n",
    "\n",
    "@btime mainst()\n",
    "@btime mainvar()\n"
   ]
  },
  {
   "cell_type": "code",
   "execution_count": null,
   "metadata": {},
   "outputs": [],
   "source": [
    "\n",
    "using BenchmarkTools, StaticArrays\n",
    "\n",
    "function test0()\n",
    "    items = @SVector [i for i in 1:10000]\n",
    "    a =[]\n",
    "    for i in 1:n\n",
    "        push!(a, items[i]) \n",
    "    end\n",
    "end\n",
    "\n",
    "function test1(n)\n",
    "    r = [i for i in 1:n]\n",
    "    mySVector = SVector{n}\n",
    "    items = mySVector(r)\n",
    "    a =[]\n",
    "    for i in 1:n\n",
    "        push!(a, items[i]) \n",
    "    end\n",
    "end\n",
    "\n",
    "function test2(n)\n",
    "    items = SVector{n}([i for i in 1:n])\n",
    "    a =[]\n",
    "    for i in 1:n\n",
    "        push!(a, items[i]) \n",
    "    end\n",
    "end\n",
    "\n",
    "function test3(n)\n",
    "    items = [i for i in 1:n]\n",
    "    a =[]\n",
    "    for i in 1:n\n",
    "        push!(a, items[i]) \n",
    "    end\n",
    "end\n",
    "n=10000\n",
    "@btime test0()\n",
    "@btime test1($n)\n",
    "@btime test2($n)\n",
    "@btime test3($n)\n"
   ]
  },
  {
   "cell_type": "code",
   "execution_count": 30,
   "metadata": {},
   "outputs": [
    {
     "name": "stdout",
     "output_type": "stream",
     "text": [
      "  261.614 ms (4 allocations: 1.49 GiB)\n",
      "  261.345 ms (4 allocations: 1.49 GiB)\n"
     ]
    }
   ],
   "source": [
    "using BenchmarkTools\n",
    "function colfirst()\n",
    "    r = rand(10^4,10^4)\n",
    "    dump = rand(10^4,10^4)\n",
    "    for i in size(r, 1), j in size(r, 2)\n",
    "        dump[i, j] = r[i, j]\n",
    "    end\n",
    "end\n",
    "@btime colfirst()\n",
    "function rowfirst()\n",
    "    r = rand(10^4,10^4)\n",
    "    dump = rand(10^4,10^4)\n",
    "    for j in size(r, 2), i in size(r, 1)\n",
    "        dump[i, j] = r[i, j]\n",
    "    end\n",
    "end\n",
    "@btime rowfirst()\n",
    "\n"
   ]
  },
  {
   "cell_type": "code",
   "execution_count": 2,
   "metadata": {},
   "outputs": [],
   "source": [
    "using BenchmarkTools"
   ]
  },
  {
   "cell_type": "code",
   "execution_count": 3,
   "metadata": {},
   "outputs": [
    {
     "name": "stdout",
     "output_type": "stream",
     "text": [
      "  134.588 ms (2 allocations: 762.94 MiB)\n",
      "  439.710 ms (2 allocations: 762.94 MiB)\n",
      "  148.438 ms (2 allocations: 762.94 MiB)\n",
      "  491.200 ms (2 allocations: 762.94 MiB)\n"
     ]
    },
    {
     "name": "stderr",
     "output_type": "stream",
     "text": [
      "WARNING: redefinition of constant x. This may fail, cause incorrect answers, or produce other errors.\n"
     ]
    }
   ],
   "source": [
    "function copy_cols(x::Vector{T}) where T\n",
    "    inds = axes(x, 1)\n",
    "    out = similar(Array{T}, inds, inds)\n",
    "    for i = inds\n",
    "        out[:, i] = x\n",
    "    end\n",
    "    return out\n",
    "end\n",
    "\n",
    "function copy_rows(x::Vector{T}) where T\n",
    "    inds = axes(x, 1)\n",
    "    out = similar(Array{T}, inds, inds)\n",
    "    for i = inds\n",
    "        out[i, :] = x\n",
    "    end\n",
    "    return out\n",
    "end\n",
    "\n",
    "function copy_col_row(x::Vector{T}) where T\n",
    "    inds = axes(x, 1)\n",
    "    out = similar(Array{T}, inds, inds)\n",
    "    for col = inds, row = inds\n",
    "        out[row, col] = x[row]\n",
    "    end\n",
    "    return out\n",
    "end\n",
    "\n",
    "function copy_row_col(x::Vector{T}) where T\n",
    "    inds = axes(x, 1)\n",
    "    out = similar(Array{T}, inds, inds)\n",
    "    for row = inds, col = inds\n",
    "        out[row, col] = x[col]\n",
    "    end\n",
    "    return out\n",
    "end\n",
    "const x = randn(10000);\n",
    "@btime copy_cols($x);\n",
    "@btime copy_rows($x);\n",
    "@btime copy_col_row($x);\n",
    "@btime copy_row_col($x);"
   ]
  },
  {
   "cell_type": "code",
   "execution_count": 3,
   "metadata": {},
   "outputs": [
    {
     "name": "stdout",
     "output_type": "stream",
     "text": [
      "500282\n",
      "500044\n",
      "  10.071 ms (10 allocations: 8.71 MiB)\n",
      "  13.083 ms (6 allocations: 8.58 MiB)\n"
     ]
    },
    {
     "data": {
      "text/plain": [
       "499021"
      ]
     },
     "metadata": {},
     "output_type": "display_data"
    }
   ],
   "source": [
    "using BenchmarkTools\n",
    "function ct()\n",
    "    x=rand([missing, 5.0],10^6)\n",
    "    return count(.!isa.(x, Missing))\n",
    "end\n",
    "\n",
    "function forloop()\n",
    "    x=rand([missing, 5.0],10^6)\n",
    "    s=0\n",
    "    for _ in skipmissing(x)\n",
    "        s += 1\n",
    "    end\n",
    "    return s\n",
    "end\n",
    "@btime ct()\n",
    "@btime forloop()"
   ]
  },
  {
   "cell_type": "code",
   "execution_count": 2,
   "metadata": {},
   "outputs": [],
   "source": [
    "using BenchmarkTools"
   ]
  },
  {
   "cell_type": "code",
   "execution_count": 12,
   "metadata": {},
   "outputs": [
    {
     "name": "stdout",
     "output_type": "stream",
     "text": [
      "  31.149 μs (2 allocations: 156.30 KiB)\n",
      "  30.241 μs (4 allocations: 312.59 KiB)\n",
      "  28.914 μs (2 allocations: 156.30 KiB)\n",
      "  29.403 μs (2 allocations: 156.30 KiB)\n",
      "  21.791 μs (4 allocations: 312.59 KiB)\n",
      "  29.752 μs (2 allocations: 156.30 KiB)\n"
     ]
    }
   ],
   "source": [
    "using BenchmarkTools\n",
    "function forrand()\n",
    "    x = zeros(2, 10000);\n",
    "    for j in 1:size(x, 2), i in 1:size(x, 1)\n",
    "        x[i, j] = 2 * (rand()-0.5)\n",
    "    end\n",
    "end\n",
    "function broadrand()\n",
    "    r = 2 .* (rand(Float64, (2, 10000)) .- 0.5)\n",
    "end\n",
    "function eachrand()\n",
    "    x = zeros(2, 10000);\n",
    "    for i in eachindex(x)\n",
    "        x[i] = 2 * (rand()-0.5)\n",
    "    end\n",
    "end\n",
    "function forrand1()\n",
    "    x = zeros(10000, 2);\n",
    "    for j in 1:size(x, 2), i in 1:size(x, 1)\n",
    "        x[i, j] = 2 * (rand()-0.5)\n",
    "    end\n",
    "end\n",
    "function broadrand1()\n",
    "    r = 2 .* (rand(Float64, (10000, 2)) .- 0.5)\n",
    "end\n",
    "function eachrand1()\n",
    "    x = zeros(10000, 2);\n",
    "    for i in eachindex(x)\n",
    "        x[i] = 2 * (rand()-0.5)\n",
    "    end\n",
    "end\n",
    "@btime forrand()\n",
    "@btime broadrand()\n",
    "@btime eachrand()\n",
    "@btime forrand1()\n",
    "@btime broadrand1()\n",
    "@btime eachrand1()"
   ]
  },
  {
   "cell_type": "code",
   "execution_count": 11,
   "metadata": {},
   "outputs": [
    {
     "name": "stdout",
     "output_type": "stream",
     "text": [
      "5\n"
     ]
    }
   ],
   "source": [
    "for i in 5\n",
    "    println(i)\n",
    "end"
   ]
  },
  {
   "cell_type": "code",
   "execution_count": 9,
   "metadata": {},
   "outputs": [
    {
     "name": "stdout",
     "output_type": "stream",
     "text": [
      "  895.155 μs (64 allocations: 2.75 MiB)\n",
      "  219.512 μs (4 allocations: 1.83 MiB)\n",
      "  245.073 μs (64 allocations: 2.75 MiB)\n"
     ]
    }
   ],
   "source": [
    "using BenchmarkTools\n",
    "function atbroad()\n",
    "    M=1000;dim=2; Ncycle=60\n",
    "    x = rand(M, dim, Ncycle)\n",
    "    y = zeros(M, dim, Ncycle)\n",
    "    for i in 1:Ncycle\n",
    "        @. y =  x[:, :, i]\n",
    "    end\n",
    "end\n",
    "function forloop()\n",
    "    M=1000;dim=2; Ncycle=60\n",
    "    x = rand(M, dim, Ncycle)\n",
    "    y = zeros(M, dim, Ncycle)\n",
    "    for i in 1:Ncycle, d in 1:dim, m in 1:M\n",
    "        y[m, d, i] = x[m, d, i]\n",
    "    end\n",
    "end\n",
    "function rdm()\n",
    "    M=1000;dim=2; Ncycle=60\n",
    "    x = rand(M, dim, Ncycle)\n",
    "    y = zeros(M, dim, Ncycle)\n",
    "    for i in 1:Ncycle\n",
    "        y[:, :, i] =  x[:, :, i]\n",
    "    end\n",
    "end\n",
    "@btime atbroad()\n",
    "@btime forloop()\n",
    "@btime rdm()"
   ]
  },
  {
   "cell_type": "code",
   "execution_count": 25,
   "metadata": {},
   "outputs": [
    {
     "name": "stdout",
     "output_type": "stream",
     "text": [
      "  14.658 ms (2 allocations: 76.29 MiB)\n",
      "  15.492 ms (2 allocations: 76.29 MiB)\n"
     ]
    },
    {
     "data": {
      "text/plain": [
       "10000000-element Vector{Float64}:\n",
       " 0.4049136212191221\n",
       " 0.21980237049623286\n",
       " 0.22489123225786023\n",
       " 0.48793014045907235\n",
       " 0.38249667334064774\n",
       " 0.4881100066200442\n",
       " 0.48950334396183925\n",
       " 0.1315845923349087\n",
       " 0.31368210156049503\n",
       " 0.2949851039694452\n",
       " ⋮\n",
       " 0.04762929665692872\n",
       " 0.2557140977409813\n",
       " 0.24832377413196216\n",
       " 0.05323163843077072\n",
       " 0.33445142347814005\n",
       " 0.14164887188560504\n",
       " 0.23496866855971477\n",
       " 0.06470253817545368\n",
       " 0.09423270975539633"
      ]
     },
     "metadata": {},
     "output_type": "display_data"
    }
   ],
   "source": [
    "using BenchmarkTools\n",
    "function distance1(x1::Float64, x2::Float64, boundary::Float64)::Float64\n",
    "    dx = abs(x1 - x2)\n",
    "    min(dx, 2 * boundary - dx)\n",
    "end\n",
    "function distance2(x1::Float64, x2::Float64, boundary::Float64)::Float64\n",
    "    dx = abs(x1 - x2)\n",
    "    dx > boundary ? 2 * boundary - dx : dx\n",
    "end\n",
    "x = rand(10_000_000)\n",
    "y = rand(10_000_000)\n",
    "@btime distance1.($x, $y, 0.5)\n",
    "@btime distance2.($x, $y, 0.5)"
   ]
  },
  {
   "cell_type": "code",
   "execution_count": 14,
   "metadata": {},
   "outputs": [
    {
     "data": {
      "text/plain": [
       "1000000-element Vector{Vector{Float64}}:\n",
       " [0.4698331419368619, 0.5552780356035049]\n",
       " [0.10883441986430553, 0.8628984247793724]\n",
       " [0.983490320348385, 0.29393054516124306]\n",
       " [0.04462508874427451, 0.7458328059458946]\n",
       " [0.7041990812536707, 0.7656729968838429]\n",
       " [0.34835068981962336, 0.8688641293524746]\n",
       " [0.9896981126817183, 0.43670732684323244]\n",
       " [0.9270021530252534, 0.282050177025701]\n",
       " [0.3036579012031868, 0.20526942621319788]\n",
       " [0.48381198144042326, 0.950699133748487]\n",
       " ⋮\n",
       " [0.3894523477141233, 0.4547198101783525]\n",
       " [0.9086674956598934, 0.7529854071716681]\n",
       " [0.37429836911513625, 0.15535423258221925]\n",
       " [0.003442799330951818, 0.6784578696504263]\n",
       " [0.936532179024221, 0.7703286207982324]\n",
       " [0.6016027314461229, 0.4595325595610328]\n",
       " [0.8151792493326662, 0.5105872464292461]\n",
       " [0.817339432923094, 0.9498870536338565]\n",
       " [0.7658269959968301, 0.9512828663721856]"
      ]
     },
     "metadata": {},
     "output_type": "display_data"
    }
   ],
   "source": [
    "x = [rand(2) for i in 1:1000000]"
   ]
  },
  {
   "cell_type": "code",
   "execution_count": 9,
   "metadata": {},
   "outputs": [
    {
     "name": "stdout",
     "output_type": "stream",
     "text": [
      "  110.162 ns (3 allocations: 512 bytes)\n",
      "  48.133 ns (1 allocation: 224 bytes)\n",
      "  92.045 ns (2 allocations: 368 bytes)\n"
     ]
    }
   ],
   "source": [
    "using StaticArrays, BenchmarkTools, Setfield\n",
    "function copySized()\n",
    "    v = SizedVector{10, Float64}(zeros(10))\n",
    "    w = Vector{Float64}(undef, 10*2)\n",
    "    for i in eachindex(v)\n",
    "        v[i] = rand()\n",
    "    end\n",
    "    for i in eachindex(v)\n",
    "        j = i+floor(Int64, 10/4)\n",
    "        w[j] = v[i]\n",
    "    end\n",
    "end\n",
    "function copyStatic()\n",
    "    v = @SVector zeros(10)\n",
    "    w = Vector{Int64}(undef, 10*2)\n",
    "    for i in eachindex(v)\n",
    "       @set v[i] = rand()\n",
    "    end\n",
    "    for i in eachindex(v)\n",
    "        j = i+floor(Int64, 10/4)\n",
    "        w[j] = v[i]\n",
    "    end\n",
    "end\n",
    "function copynormal()\n",
    "    v = zeros(10)\n",
    "    w = Vector{Float64}(undef, 10*2)\n",
    "    for i in eachindex(v)\n",
    "        v[i] = rand()\n",
    "    end\n",
    "    for i in eachindex(v)\n",
    "        j = i+floor(Int64, 10/4)\n",
    "        w[j] = v[i]\n",
    "    end\n",
    "end\n",
    "\n",
    "@btime copySized()\n",
    "@btime copyStatic()\n",
    "@btime copynormal()"
   ]
  },
  {
   "cell_type": "code",
   "execution_count": 4,
   "metadata": {},
   "outputs": [
    {
     "name": "stdout",
     "output_type": "stream",
     "text": [
      "  255.249 ns (10 allocations: 800 bytes)\n",
      "  1.300 ns (0 allocations: 0 bytes)\n",
      "  1.500 ns (0 allocations: 0 bytes)\n"
     ]
    }
   ],
   "source": [
    "using BenchmarkTools, StaticArrays\n",
    "function f(x)\n",
    "    z = 0.\n",
    "    for i in 1:10\n",
    "      y = [ i+1, i+2 ]\n",
    "      z += x[1]*y[1] + x[2]*y[2]\n",
    "    end\n",
    "  end\n",
    " function g(x)\n",
    "    z = 0.\n",
    "    for i in 1:10\n",
    "      y = @SVector [ i+1, i+2 ]\n",
    "      z += x[1]*y[1] + x[2]*y[2]\n",
    "    end\n",
    "  end\n",
    "  function h(x)\n",
    "    z = 0.\n",
    "    for i in 1:10\n",
    "      y = (i+1, i+2)\n",
    "      z += x[1]*y[1] + x[2]*y[2]\n",
    "    end\n",
    "  end\n",
    "@btime f(x) setup=(x=rand(2)) \n",
    "@btime g(x) setup=(x=rand(2)) \n",
    "@btime h(x) setup=(x=rand(2)) "
   ]
  },
  {
   "cell_type": "code",
   "execution_count": 9,
   "metadata": {},
   "outputs": [
    {
     "name": "stdout",
     "output_type": "stream",
     "text": [
      "  102.225 ns (1 allocation: 144 bytes)\n",
      "  103.936 ns (1 allocation: 144 bytes)\n",
      "  99.683 ns (1 allocation: 144 bytes)\n"
     ]
    }
   ],
   "source": [
    "using  BenchmarkTools\n",
    "function f(n::Int64)\n",
    "    x = rand(n)\n",
    "    s = sum(x)\n",
    "end\n",
    "function g(n::Int64)\n",
    "    x = rand(n)\n",
    "    s = sum(view(x, :))\n",
    "end\n",
    "function h(n::Int64)\n",
    "    x = rand(n)\n",
    "    s = 0\n",
    "    for i in x\n",
    "        s += i\n",
    "    end\n",
    "end\n",
    "@btime f(n) setup=(n=10) \n",
    "@btime g(n) setup=(n=10) \n",
    "@btime h(n) setup=(n=10) "
   ]
  },
  {
   "cell_type": "code",
   "execution_count": 12,
   "metadata": {},
   "outputs": [
    {
     "name": "stdout",
     "output_type": "stream",
     "text": [
      "  5.225 μs (2 allocations: 78.17 KiB)\n",
      "  5.680 μs (2 allocations: 78.17 KiB)\n"
     ]
    },
    {
     "data": {
      "text/plain": [
       "10000-element Vector{Int64}:\n",
       "     1\n",
       "     2\n",
       "     3\n",
       "     4\n",
       "     5\n",
       "     6\n",
       "     7\n",
       "     8\n",
       "     9\n",
       "    10\n",
       "     ⋮\n",
       "  9992\n",
       "  9993\n",
       "  9994\n",
       "  9995\n",
       "  9996\n",
       "  9997\n",
       "  9998\n",
       "  9999\n",
       " 10000"
      ]
     },
     "metadata": {},
     "output_type": "display_data"
    }
   ],
   "source": [
    "using  BenchmarkTools\n",
    "function f(n::Int64)\n",
    "    collect(1:n)\n",
    "end\n",
    "function g(n::Int64)\n",
    "    [i for i in 1:n]\n",
    "end\n",
    "@btime f(n) setup=(n=10000) \n",
    "@btime g(n) setup=(n=10000) "
   ]
  },
  {
   "cell_type": "code",
   "execution_count": 2,
   "metadata": {},
   "outputs": [
    {
     "name": "stdout",
     "output_type": "stream",
     "text": [
      "  13.220 ms (28 allocations: 18.37 MiB)\n",
      "  8.122 ms (14 allocations: 8.58 MiB)\n"
     ]
    },
    {
     "data": {
      "text/plain": [
       "909116-element Vector{Union{Missing, Int64}}:\n",
       " 10\n",
       "  8\n",
       "  2\n",
       "  9\n",
       "  6\n",
       "  4\n",
       "  8\n",
       "  3\n",
       "  7\n",
       "  7\n",
       "  ⋮\n",
       "  8\n",
       "  4\n",
       " 10\n",
       "  5\n",
       "  7\n",
       "  9\n",
       "  7\n",
       "  4\n",
       "  6"
      ]
     },
     "metadata": {},
     "output_type": "display_data"
    }
   ],
   "source": [
    "using BenchmarkTools\n",
    "function miscollect()\n",
    "    v = rand([1,2,3,4,5,6,7,8,9,10,missing], 1000000)\n",
    "    return collect(skipmissing(v))\n",
    "end\n",
    "function misfilter()\n",
    "    v = rand([1,2,3,4,5,6,7,8,9,10,missing], 1000000)\n",
    "    return filter!(!ismissing, v)\n",
    "end\n",
    "\n",
    "@btime miscollect()\n",
    "@btime misfilter()\n"
   ]
  },
  {
   "cell_type": "code",
   "execution_count": 9,
   "metadata": {},
   "outputs": [
    {
     "name": "stdout",
     "output_type": "stream",
     "text": [
      "  10.767 ns (0 allocations: 0 bytes)\n",
      "  5.168 ns (0 allocations: 0 bytes)\n"
     ]
    },
    {
     "data": {
      "text/plain": [
       "7.1405496333974865"
      ]
     },
     "metadata": {},
     "output_type": "display_data"
    }
   ],
   "source": [
    "using BenchmarkTools\n",
    "f(x::Float64, y::Float64)=log(exp(x) * y)\n",
    "g(x::Float64, y::Float64)=x + log(y)\n",
    "x=5.3\n",
    "y=6.3\n",
    "@btime  f($x, $y)\n",
    "@btime  g($x, $y)"
   ]
  },
  {
   "cell_type": "code",
   "execution_count": 6,
   "metadata": {},
   "outputs": [
    {
     "data": {
      "text/plain": [
       "true"
      ]
     },
     "metadata": {},
     "output_type": "display_data"
    }
   ],
   "source": [
    "using BenchmarkTools\n",
    "function test1()\n",
    "    r = rand(2,1000)\n",
    "    tmp = zeros(2)\n",
    "    for i in size(r, 2)\n",
    "        tmp = r[:, i]\n",
    "    end\n",
    "end\n",
    "function test2()\n",
    "    r = rand(2,1000)\n",
    "    tmp = zeros(2)\n",
    "    for i in size(r, 2)\n",
    "        for j in size(r, 1)\n",
    "            tmp = r[j, i]\n",
    "        end\n",
    "    end\n",
    "end\n",
    "function main()\n",
    "    @btime test1()\n",
    "    @btime test2() # faster\n",
    "end\n",
    "main()\n"
   ]
  },
  {
   "cell_type": "code",
   "execution_count": null,
   "metadata": {},
   "outputs": [],
   "source": [
    "using BenchmarkTools\n",
    "function fx()\n",
    "    x = rand(10^6)\n",
    "    3x.^2 + 4x + 7x.^3\n",
    "end\n",
    "function fdotx()\n",
    "    x = rand(10^6)\n",
    "    @. 3x^2 + 4x + 7x^3\n",
    "end\n",
    "function f(x::Vector{Float64})\n",
    "    3x.^2 + 4x + 7x.^3\n",
    "end\n",
    "function fdot(x::Vector{Float64})\n",
    "    @. 3x^2 + 4x + 7x^3\n",
    "end\n",
    "function f(x::Float64)\n",
    "    3x^2 + 4x + 7x^3\n",
    "end\n",
    "\n",
    "const x = rand(10^6);\n",
    "@btime fx()\n",
    "@btime fdotx()\n",
    "@btime f(x)\n",
    "@btime fdot(x)\n",
    "@btime f.(x)"
   ]
  },
  {
   "cell_type": "code",
   "execution_count": null,
   "metadata": {},
   "outputs": [],
   "source": [
    "using BenchmarkTools\n",
    "function xinc(x)\n",
    "    return [x, x+1, x+2]\n",
    "end;\n",
    "\n",
    "function loopinc()\n",
    "    y = 0\n",
    "    for i = 1:10^7\n",
    "        ret = xinc(i)\n",
    "        y += ret[2]\n",
    "    end\n",
    "    return y\n",
    "end;\n",
    "\n",
    "function xinc!(ret::AbstractVector{T}, x::T) where T\n",
    "    ret[1] = x\n",
    "    ret[2] = x+1\n",
    "    ret[3] = x+2\n",
    "    nothing\n",
    "end;\n",
    "\n",
    "function loopinc_prealloc()\n",
    "    ret = Vector{Int}(undef, 3)\n",
    "    y = 0\n",
    "    for i = 1:10^7\n",
    "        xinc!(ret, i)\n",
    "        y += ret[2]\n",
    "    end\n",
    "    return y\n",
    "end;\n",
    "\n",
    "@btime loopinc()\n",
    "@btime loopinc_prealloc()"
   ]
  },
  {
   "cell_type": "code",
   "execution_count": 13,
   "metadata": {},
   "outputs": [
    {
     "name": "stdout",
     "output_type": "stream",
     "text": [
      "  914.442 ns (0 allocations: 0 bytes)\n",
      "  49.745 ns (0 allocations: 0 bytes)\n",
      "  49.745 ns (0 allocations: 0 bytes)\n",
      "  2.219 μs (100 allocations: 7.81 KiB)\n",
      "  3.841 μs (200 allocations: 15.62 KiB)\n"
     ]
    }
   ],
   "source": [
    "using BenchmarkTools\n",
    "function copyview(a, b)\n",
    "    for j in eachindex(view(a, :, 1))\n",
    "        b[j, :] = @view a[j, :]\n",
    "    end\n",
    "end\n",
    "function copyview′(a, b)\n",
    "    for j in eachindex(a)\n",
    "        b[j] = a[j]\n",
    "    end\n",
    "end\n",
    "function copy1(a, b)\n",
    "    for j in eachindex(view(a, :, 1))\n",
    "        b[j, 1] = a[j, 1]\n",
    "    end\n",
    "end\n",
    "\n",
    "function copynormal(a, b)\n",
    "    for j in eachindex(view(a, :, 1))\n",
    "        b[j, :] =  a[j, :]\n",
    "    end\n",
    "end\n",
    "\n",
    "function copycopy(a, b)\n",
    "    for j in eachindex(view(a, :, 1))\n",
    "        b[j, :] = copy(a[j, :]) \n",
    "    end\n",
    "end\n",
    "a = ones(100, 2)\n",
    "b = zeros(100, 2)\n",
    "@btime copyview($a, $b)\n",
    "@btime copyview′($a, $b)\n",
    "@btime copy1($a, $b)\n",
    "@btime copynormal($a, $b)\n",
    "@btime copycopy($a, $b)\n"
   ]
  },
  {
   "cell_type": "code",
   "execution_count": 11,
   "metadata": {},
   "outputs": [
    {
     "name": "stdout",
     "output_type": "stream",
     "text": [
      "  926.811 ns (0 allocations: 0 bytes)\n"
     ]
    },
    {
     "data": {
      "text/plain": [
       "100×2 Matrix{Float64}:\n",
       " 1.0  1.0\n",
       " 1.0  1.0\n",
       " 1.0  1.0\n",
       " 1.0  1.0\n",
       " 1.0  1.0\n",
       " 1.0  1.0\n",
       " 1.0  1.0\n",
       " 1.0  1.0\n",
       " 1.0  1.0\n",
       " 1.0  1.0\n",
       " ⋮    \n",
       " 1.0  1.0\n",
       " 1.0  1.0\n",
       " 1.0  1.0\n",
       " 1.0  1.0\n",
       " 1.0  1.0\n",
       " 1.0  1.0\n",
       " 1.0  1.0\n",
       " 1.0  1.0\n",
       " 1.0  1.0"
      ]
     },
     "metadata": {},
     "output_type": "display_data"
    }
   ],
   "source": [
    "@btime copyview($a, $b)\n",
    "b"
   ]
  },
  {
   "cell_type": "code",
   "execution_count": 15,
   "metadata": {},
   "outputs": [
    {
     "name": "stdout",
     "output_type": "stream",
     "text": [
      "dfunc_all:   172.881 ms (0 allocations: 0 bytes)\n",
      "dfunc_subarray:   3.976 s (200000000 allocations: 14.90 GiB)\n",
      "dfunc_view:   216.144 ms (0 allocations: 0 bytes)\n",
      "dot_view:   9.004 s (0 allocations: 0 bytes)\n"
     ]
    },
    {
     "data": {
      "text/plain": [
       "7.489174706789348e7"
      ]
     },
     "metadata": {},
     "output_type": "display_data"
    }
   ],
   "source": [
    "using LinearAlgebra\n",
    "function dfunc_all(i,j,x,y)\n",
    "    (x[1,i]-y[1,j])^2 + (x[2,i]-y[2,j])^2 + (x[3,i]-y[3,j])^2\n",
    "end\n",
    "\n",
    "function dfunc_subarray(x,y)\n",
    "    (x[1]-y[1])^2 + (x[2]-y[2])^2 + (x[3]-y[3])^2\n",
    "end\n",
    "\n",
    "function dfunc_view(x,y)\n",
    "    (x[1]-y[1])^2 + (x[2]-y[2])^2 + (x[3]-y[3])^2\n",
    "end\n",
    "\n",
    "function dist(n,x,y,typ)\n",
    "    acc = zero(eltype(x))\n",
    "    for i in 1:n\n",
    "        for j in 1:n\n",
    "            if typ == 1\n",
    "                d = dfunc_all(i,j,x,y)\n",
    "            end\n",
    "            if typ == 2\n",
    "                d = dfunc_subarray(x[:,i],y[:,j])\n",
    "            end\n",
    "            if typ == 3\n",
    "                d = dfunc_view(view(x,:,i),view(y,:,j))\n",
    "            end\n",
    "            if typ == 4\n",
    "                d = dot(view(x,:,i),view(y,:,j))\n",
    "            end\n",
    "\n",
    "            acc += d\n",
    "        end\n",
    "    end\n",
    "    acc\n",
    "end\n",
    "\n",
    "n = 10000;\n",
    "x = rand(3,n);\n",
    "y = rand(3,n);\n",
    "\n",
    "using BenchmarkTools\n",
    "print(\"dfunc_all: \")\n",
    "@btime dist($n,$x,$y,1)\n",
    "print(\"dfunc_subarray: \")\n",
    "@btime dist($n,$x,$y,2)\n",
    "print(\"dfunc_view: \")\n",
    "@btime dist($n,$x,$y,3)\n",
    "print(\"dot_view: \")\n",
    "@btime dist($n,$x,$y,4)"
   ]
  },
  {
   "cell_type": "code",
   "execution_count": 2,
   "metadata": {},
   "outputs": [
    {
     "name": "stdout",
     "output_type": "stream",
     "text": [
      "  65.535 ns (0 allocations: 0 bytes)\n",
      "  125.112 ns (0 allocations: 0 bytes)\n"
     ]
    }
   ],
   "source": [
    "using BenchmarkTools\n",
    "function forloop(a, b)\n",
    "    for j in eachindex(a)\n",
    "        a[j] = 1\n",
    "        b[j] = 2\n",
    "    end\n",
    "end\n",
    "function forforloop(a, b)\n",
    "    for j in eachindex(a)\n",
    "        a[j] = 1\n",
    "    end\n",
    "    for j in eachindex(a)\n",
    "        b[j] = 2\n",
    "    end\n",
    "end\n",
    "a = zeros(100)\n",
    "b = zeros(100)\n",
    "@btime forloop($a, $b)\n",
    "@btime forforloop($a, $b)"
   ]
  },
  {
   "cell_type": "code",
   "execution_count": null,
   "metadata": {},
   "outputs": [],
   "source": []
  }
 ],
 "metadata": {
  "kernelspec": {
   "display_name": "Julia 1.7.0",
   "language": "julia",
   "name": "julia-1.7"
  },
  "language_info": {
   "file_extension": ".jl",
   "mimetype": "application/julia",
   "name": "julia",
   "version": "1.7.0"
  },
  "orig_nbformat": 4
 },
 "nbformat": 4,
 "nbformat_minor": 2
}
